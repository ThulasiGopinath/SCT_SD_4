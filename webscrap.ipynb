{
  "nbformat": 4,
  "nbformat_minor": 0,
  "metadata": {
    "colab": {
      "provenance": [],
      "authorship_tag": "ABX9TyOJpSzJaeOLUWawYsRqKX4X",
      "include_colab_link": true
    },
    "kernelspec": {
      "name": "python3",
      "display_name": "Python 3"
    },
    "language_info": {
      "name": "python"
    }
  },
  "cells": [
    {
      "cell_type": "markdown",
      "metadata": {
        "id": "view-in-github",
        "colab_type": "text"
      },
      "source": [
        "<a href=\"https://colab.research.google.com/github/ThulasiGopinath/SCT_SD_4/blob/main/webscrap.ipynb\" target=\"_parent\"><img src=\"https://colab.research.google.com/assets/colab-badge.svg\" alt=\"Open In Colab\"/></a>"
      ]
    },
    {
      "cell_type": "code",
      "execution_count": 19,
      "metadata": {
        "id": "vb88fdeDMHgs"
      },
      "outputs": [],
      "source": [
        "import requests"
      ]
    },
    {
      "cell_type": "code",
      "source": [
        "from bs4 import BeautifulSoup"
      ],
      "metadata": {
        "id": "nVGim6ba6ijV"
      },
      "execution_count": 15,
      "outputs": []
    },
    {
      "cell_type": "code",
      "source": [
        "import pandas as pd"
      ],
      "metadata": {
        "id": "VHqN1KOQXz4n"
      },
      "execution_count": 30,
      "outputs": []
    },
    {
      "cell_type": "code",
      "source": [
        "books = []\n",
        "for i in range (1,5):\n",
        "  url = \"https://books.toscrape.com/catalogue/page-3.html\"\n",
        "  response = requests.get(url)\n",
        "  response = response.content\n",
        "  soup = BeautifulSoup(response, 'html.parser')\n",
        "  ol = soup.find('ol')\n",
        "  articles = ol.find_all('article', class_='product_pod')\n",
        "\n",
        "  for article in articles:\n",
        "    image = article.find('img')\n",
        "    title = image.attrs['alt']\n",
        "    star = article.find('p')\n",
        "    star = star['class'][1]\n",
        "    price = article.find('p', class_='price_color').text\n",
        "    price = float(price[1:])\n",
        "    books.append([title, price, star])\n",
        "    print(price)"
      ],
      "metadata": {
        "colab": {
          "base_uri": "https://localhost:8080/"
        },
        "collapsed": true,
        "id": "6tXtNT1pHYZF",
        "outputId": "c15965cc-fdfd-4b70-8c6f-78142f9bc81b"
      },
      "execution_count": 33,
      "outputs": [
        {
          "output_type": "stream",
          "name": "stdout",
          "text": [
            "57.31\n",
            "26.41\n",
            "47.61\n",
            "23.11\n",
            "45.07\n",
            "31.77\n",
            "50.27\n",
            "14.27\n",
            "44.18\n",
            "18.78\n",
            "25.52\n",
            "16.28\n",
            "31.12\n",
            "19.49\n",
            "17.27\n",
            "19.09\n",
            "56.13\n",
            "56.41\n",
            "56.5\n",
            "45.22\n",
            "57.31\n",
            "26.41\n",
            "47.61\n",
            "23.11\n",
            "45.07\n",
            "31.77\n",
            "50.27\n",
            "14.27\n",
            "44.18\n",
            "18.78\n",
            "25.52\n",
            "16.28\n",
            "31.12\n",
            "19.49\n",
            "17.27\n",
            "19.09\n",
            "56.13\n",
            "56.41\n",
            "56.5\n",
            "45.22\n",
            "57.31\n",
            "26.41\n",
            "47.61\n",
            "23.11\n",
            "45.07\n",
            "31.77\n",
            "50.27\n",
            "14.27\n",
            "44.18\n",
            "18.78\n",
            "25.52\n",
            "16.28\n",
            "31.12\n",
            "19.49\n",
            "17.27\n",
            "19.09\n",
            "56.13\n",
            "56.41\n",
            "56.5\n",
            "45.22\n",
            "57.31\n",
            "26.41\n",
            "47.61\n",
            "23.11\n",
            "45.07\n",
            "31.77\n",
            "50.27\n",
            "14.27\n",
            "44.18\n",
            "18.78\n",
            "25.52\n",
            "16.28\n",
            "31.12\n",
            "19.49\n",
            "17.27\n",
            "19.09\n",
            "56.13\n",
            "56.41\n",
            "56.5\n",
            "45.22\n"
          ]
        }
      ]
    },
    {
      "cell_type": "code",
      "source": [
        "df = pd.DataFrame(books, columns=['Ttile', 'Price', 'Star Rating'] )"
      ],
      "metadata": {
        "id": "r3OGJE1QaHAs"
      },
      "execution_count": 34,
      "outputs": []
    },
    {
      "cell_type": "code",
      "source": [
        "df.to_csv('books.csv')"
      ],
      "metadata": {
        "id": "WlQerAIXapBe"
      },
      "execution_count": 35,
      "outputs": []
    }
  ]
}